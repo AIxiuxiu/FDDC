{
 "cells": [
  {
   "cell_type": "code",
   "execution_count": 1,
   "metadata": {},
   "outputs": [
    {
     "name": "stderr",
     "output_type": "stream",
     "text": [
      "/usr/local/miniconda3/lib/python3.6/importlib/_bootstrap.py:219: RuntimeWarning: numpy.dtype size changed, may indicate binary incompatibility. Expected 96, got 88\n",
      "  return f(*args, **kwds)\n",
      "/usr/local/miniconda3/lib/python3.6/importlib/_bootstrap.py:219: RuntimeWarning: numpy.dtype size changed, may indicate binary incompatibility. Expected 96, got 88\n",
      "  return f(*args, **kwds)\n"
     ]
    }
   ],
   "source": [
    "import pandas as pd\n",
    "import os\n",
    "\n",
    "filename='../FDDC/hetong.train'\n"
   ]
  },
  {
   "cell_type": "code",
   "execution_count": 231,
   "metadata": {},
   "outputs": [],
   "source": [
    "def getDict(name):\n",
    "    return {'name':name,'start':-1,'end':-1}\n",
    "class hetong():\n",
    "    def __init__(self,name,jiafang,yifang,xiangmu,hetong):\n",
    "        self.name=name\n",
    "        self.jiafang=getDict(jiafang)\n",
    "        self.yifang=getDict(yifang)\n",
    "        self.xiangmu=getDict(xiangmu)\n",
    "        self.hetong=getDict(hetong)\n",
    "\n",
    "    "
   ]
  },
  {
   "cell_type": "code",
   "execution_count": 232,
   "metadata": {},
   "outputs": [],
   "source": [
    "length,length2,ht=[],[],[]\n",
    "with open(filename,'r') as fr:\n",
    "    for line in fr.readlines():\n",
    "        a=line.split('\\t')\n",
    "        length.append(len(a))\n",
    "        if len(a)<8:\n",
    "            a.extend(['']*(8-len(a)))\n",
    "        a=a[:5]\n",
    "        length2.append(len(a))\n",
    "        ht.append(hetong(*a))"
   ]
  },
  {
   "cell_type": "code",
   "execution_count": 233,
   "metadata": {},
   "outputs": [],
   "source": [
    "dirname='../FDDC/hetongBIO'\n",
    "if not os.path.exists(dirname):\n",
    "    os.makedirs(dirname)\n",
    "for i in ht:\n",
    "    i=i.__dict__\n",
    "    name=i['name']\n",
    "    i.pop('name')\n",
    "    with open(os.path.join(dirname,name+'.txt'),'w') as fw:\n",
    "        with open('../FDDC/textWithParagraph/'+name+'.txt','r') as fr:\n",
    "            text=fr.readline()\n",
    "            for key,values in i.items():\n",
    "                anchor=text.find(values['name'])\n",
    "                if anchor!=-1:\n",
    "                    values['start']=anchor\n",
    "                    values['end']=anchor+len(values['name'])\n",
    "            li=['O' for i in text]\n",
    "            for k,v in i.items():\n",
    "                if v['name']!='' and v['start']!=-1:\n",
    "                    li[v['start']]='B-'+k\n",
    "                    for i in range(v['start']+1,v['end']):\n",
    "                        li[i]='I-'+k\n",
    "\n",
    "\n",
    "            sss=\"\"\n",
    "            for i,con in enumerate(text):\n",
    "                sss+=con+' '+li[i]+'\\n'\n",
    "            fw.write(sss)\n",
    "                \n",
    "                "
   ]
  },
  {
   "cell_type": "code",
   "execution_count": 167,
   "metadata": {},
   "outputs": [
    {
     "name": "stdout",
     "output_type": "stream",
     "text": [
      "name 20596751\n",
      "jiafang {'name': '丽水市莲都区卫生和计划生育局', 'start': '-1', 'end': '-1'}\n",
      "yifang {'name': '龙元建设集团股份有限公司', 'start': '-1', 'end': '-1'}\n",
      "xiangmu {'name': '丽水市莲都区人民医院改扩建和丽云中心卫生院迁建PPP项目社会资本采购', 'start': '-1', 'end': '-1'}\n",
      "hetong {'name': '', 'start': '-1', 'end': '-1'}\n"
     ]
    }
   ],
   "source": [
    "for key,values in ht[0].__dict__.items():\n",
    "    ht[0].__dict__\n",
    "    print(key,values)"
   ]
  },
  {
   "cell_type": "code",
   "execution_count": 202,
   "metadata": {},
   "outputs": [
    {
     "ename": "AttributeError",
     "evalue": "'dict' object has no attribute 'name'",
     "output_type": "error",
     "traceback": [
      "\u001b[0;31m---------------------------------------------------------------------------\u001b[0m",
      "\u001b[0;31mAttributeError\u001b[0m                            Traceback (most recent call last)",
      "\u001b[0;32m<ipython-input-202-86c430dc30be>\u001b[0m in \u001b[0;36m<module>\u001b[0;34m()\u001b[0m\n\u001b[0;32m----> 1\u001b[0;31m \u001b[0;34m(\u001b[0m\u001b[0mht\u001b[0m\u001b[0;34m[\u001b[0m\u001b[0;36m1\u001b[0m\u001b[0;34m]\u001b[0m\u001b[0;34m.\u001b[0m\u001b[0m__dict__\u001b[0m\u001b[0;34m.\u001b[0m\u001b[0mname\u001b[0m\u001b[0;34m)\u001b[0m\u001b[0;34m\u001b[0m\u001b[0m\n\u001b[0m",
      "\u001b[0;31mAttributeError\u001b[0m: 'dict' object has no attribute 'name'"
     ]
    }
   ],
   "source": [
    "(ht[1].__dict__.name)"
   ]
  },
  {
   "cell_type": "code",
   "execution_count": 240,
   "metadata": {},
   "outputs": [],
   "source": [
    "dirname='../FDDC/hetongBIO'\n",
    "filelist=list(os.walk(dirname))[0][2]\n",
    "import numpy as np\n",
    "np.random.shuffle(filelist)\n",
    "length=len(filelist)\n",
    "train,test,dev=filelist[:int(length*0.7)],filelist[int(length*0.7):int(length*0.9)],filelist[int(length*0.9):]"
   ]
  },
  {
   "cell_type": "code",
   "execution_count": 246,
   "metadata": {},
   "outputs": [],
   "source": [
    "data_dirname='../FDDC/Data'\n",
    "if not os.path.exists(data_dirname):\n",
    "    os.mkdir(data_dirname)\n",
    "with open(os.path.join(data_dirname,'dev.txt'),'a+') as fw:\n",
    "    for i in dev:\n",
    "        filename=os.path.join(dirname,i)\n",
    "        with open(filename,'r') as fr:\n",
    "            for line in fr.readlines():\n",
    "                fw.write(line)\n",
    "            "
   ]
  },
  {
   "cell_type": "code",
   "execution_count": 185,
   "metadata": {},
   "outputs": [
    {
     "data": {
      "text/plain": [
       "{'jiafang': {'name': '丽水市莲都区卫生和计划生育局', 'start': 14, 'end': 28},\n",
       " 'yifang': {'name': '龙元建设集团股份有限公司', 'start': 0, 'end': 12}}"
      ]
     },
     "execution_count": 185,
     "metadata": {},
     "output_type": "execute_result"
    }
   ],
   "source": [
    "test={'name':'20596751',\n",
    "      'jiafang':{'name':'丽水市莲都区卫生和计划生育局','start':14,'end':28},\n",
    "      'yifang':{'name':'龙元建设集团股份有限公司','start':0,'end':12}\n",
    "     }\n",
    "class t():\n",
    "    def __init__(self,d):\n",
    "        self.__dict__=d\n",
    "a=t(test)\n",
    "a.__dict__.pop('name')\n",
    "a.__dict__"
   ]
  },
  {
   "cell_type": "code",
   "execution_count": 152,
   "metadata": {},
   "outputs": [
    {
     "data": {
      "text/plain": [
       "{'name': '20596751',\n",
       " 'jiafang': {'name': '丽水市莲都区卫生和计划生育局', 'start': '', 'end': ''},\n",
       " 'yifang': {'name': '龙元建设集团股份有限公司', 'start': '', 'end': ''},\n",
       " 'xiangmu': {'name': '丽水市莲都区人民医院改扩建和丽云中心卫生院迁建PPP项目社会资本采购',\n",
       "  'start': '',\n",
       "  'end': ''},\n",
       " 'hetong': {'name': '', 'start': '', 'end': ''}}"
      ]
     },
     "execution_count": 152,
     "metadata": {},
     "output_type": "execute_result"
    }
   ],
   "source": [
    "ht[0].__dict__"
   ]
  },
  {
   "cell_type": "code",
   "execution_count": 184,
   "metadata": {},
   "outputs": [
    {
     "name": "stdout",
     "output_type": "stream",
     "text": [
      "龙元建设集团股份有限公司\n",
      "0 12\n"
     ]
    },
    {
     "data": {
      "text/plain": [
       "'龙\\n元\\n建\\n设\\n集\\n团\\n股\\n份\\n有\\n限\\n公\\n司\\n拟\\n定\\n丽\\n水\\n市\\n莲\\n都\\n区\\n卫\\n生\\n和\\n计\\n划\\n生\\n育\\n局\\n丽\\n水\\n市\\n莲\\n都\\n区\\n人\\n民\\n医\\n院\\n改\\n扩\\n建\\n和\\n丽\\n云\\n中\\n心\\n卫\\n生\\n院\\n迁\\n建\\nP\\nP\\nP\\n项\\n目\\n社\\n会\\n资\\n本\\n采\\n购\\n'"
      ]
     },
     "execution_count": 184,
     "metadata": {},
     "output_type": "execute_result"
    }
   ],
   "source": [
    "ss=\"龙元建设集团股份有限公司拟定丽水市莲都区卫生和计划生育局丽水市莲都区人民医院改扩建和丽云中心卫生院迁建PPP项目社会资本采购\"\n",
    "sss=\"\"\n",
    "start=ss.find('龙元建设集团股份有限公司')\n",
    "print(ss[start:start+len('龙元建设集团股份有限公司')])\n",
    "print(start,start+len('龙元建设集团股份有限公司'))\n",
    "for i in ss:\n",
    "    sss+=i+'\\n'\n",
    "sss"
   ]
  },
  {
   "cell_type": "code",
   "execution_count": 193,
   "metadata": {},
   "outputs": [
    {
     "name": "stdout",
     "output_type": "stream",
     "text": [
      "('龙 B-yifang\\n'\n",
      " '元 I-yifang\\n'\n",
      " '建 I-yifang\\n'\n",
      " '设 I-yifang\\n'\n",
      " '集 I-yifang\\n'\n",
      " '团 I-yifang\\n'\n",
      " '股 I-yifang\\n'\n",
      " '份 I-yifang\\n'\n",
      " '有 I-yifang\\n'\n",
      " '限 I-yifang\\n'\n",
      " '公 I-yifang\\n'\n",
      " '司 I-yifang\\n'\n",
      " '拟 O\\n'\n",
      " '定 O\\n'\n",
      " '丽 B-jiafang\\n'\n",
      " '水 I-jiafang\\n'\n",
      " '市 I-jiafang\\n'\n",
      " '莲 I-jiafang\\n'\n",
      " '都 I-jiafang\\n'\n",
      " '区 I-jiafang\\n'\n",
      " '卫 I-jiafang\\n'\n",
      " '生 I-jiafang\\n'\n",
      " '和 I-jiafang\\n'\n",
      " '计 I-jiafang\\n'\n",
      " '划 I-jiafang\\n'\n",
      " '生 I-jiafang\\n'\n",
      " '育 I-jiafang\\n'\n",
      " '局 I-jiafang\\n'\n",
      " '丽 O\\n'\n",
      " '水 O\\n'\n",
      " '市 O\\n'\n",
      " '莲 O\\n'\n",
      " '都 O\\n'\n",
      " '区 O\\n'\n",
      " '人 O\\n'\n",
      " '民 O\\n'\n",
      " '医 O\\n'\n",
      " '院 O\\n'\n",
      " '改 O\\n'\n",
      " '扩 O\\n'\n",
      " '建 O\\n'\n",
      " '和 O\\n'\n",
      " '丽 O\\n'\n",
      " '云 O\\n'\n",
      " '中 O\\n'\n",
      " '心 O\\n'\n",
      " '卫 O\\n'\n",
      " '生 O\\n'\n",
      " '院 O\\n'\n",
      " '迁 O\\n'\n",
      " '建 O\\n'\n",
      " 'P O\\n'\n",
      " 'P O\\n'\n",
      " 'P O\\n'\n",
      " '项 O\\n'\n",
      " '目 O\\n'\n",
      " '社 O\\n'\n",
      " '会 O\\n'\n",
      " '资 O\\n'\n",
      " '本 O\\n'\n",
      " '采 O\\n'\n",
      " '购 O\\n')\n"
     ]
    }
   ],
   "source": [
    "import numpy as np \n",
    "li=['O' for i in ss]\n",
    "for k,v in a.__dict__.items():\n",
    "    if v['name']!='' and v['start']!=-1:\n",
    "        li[v['start']]='B-'+k\n",
    "        for i in range(v['start']+1,v['end']):\n",
    "            li[i]='I-'+k\n",
    "        \n",
    "\n",
    "sss=\"\"\n",
    "for i,con in enumerate(ss):\n",
    "    sss+=con+' '+li[i]+'\\n'\n",
    "import pprint\n",
    "pprint.pprint(sss)"
   ]
  },
  {
   "cell_type": "code",
   "execution_count": 82,
   "metadata": {},
   "outputs": [],
   "source": [
    "from collections import Counter\n",
    "c=Counter(b)"
   ]
  },
  {
   "cell_type": "code",
   "execution_count": 95,
   "metadata": {},
   "outputs": [
    {
     "data": {
      "text/plain": [
       "960"
      ]
     },
     "execution_count": 95,
     "metadata": {},
     "output_type": "execute_result"
    }
   ],
   "source": [
    "sum=0\n",
    "res=[]\n",
    "for i in c.most_common():\n",
    "    if i[1]!=1:\n",
    "        res.append(i[0])\n",
    "        sum+=i[1]-1\n",
    "sum"
   ]
  },
  {
   "cell_type": "code",
   "execution_count": 92,
   "metadata": {},
   "outputs": [
    {
     "data": {
      "text/plain": [
       "('16892638.txt', 26)"
      ]
     },
     "execution_count": 92,
     "metadata": {},
     "output_type": "execute_result"
    }
   ],
   "source": [
    "c.most_common()[0]"
   ]
  },
  {
   "cell_type": "code",
   "execution_count": 230,
   "metadata": {},
   "outputs": [
    {
     "data": {
      "text/plain": [
       "True"
      ]
     },
     "execution_count": 230,
     "metadata": {},
     "output_type": "execute_result"
    }
   ],
   "source": [
    "s='''国家电网公司输变电项目哈密南-郑州±800千伏特高压直流输电线路工程导线施工标段(二)导地线招标活动'''\n",
    "sss='''国家电网公司输变电项目哈密南-郑州±800千伏特高压直流输电线路工程导线施工标段(二)导地线招标活动'''\n",
    "s==sss"
   ]
  },
  {
   "cell_type": "code",
   "execution_count": 105,
   "metadata": {},
   "outputs": [
    {
     "data": {
      "text/plain": [
       "<map at 0x117575a58>"
      ]
     },
     "execution_count": 105,
     "metadata": {},
     "output_type": "execute_result"
    }
   ],
   "source": [
    "a=['1111','2222']\n",
    "s=\"\"\n",
    "map(lambda x:s+x,a)"
   ]
  },
  {
   "cell_type": "code",
   "execution_count": 106,
   "metadata": {},
   "outputs": [
    {
     "data": {
      "text/plain": [
       "['1111', '2222']"
      ]
     },
     "execution_count": 106,
     "metadata": {},
     "output_type": "execute_result"
    }
   ],
   "source": [
    "a"
   ]
  },
  {
   "cell_type": "code",
   "execution_count": null,
   "metadata": {},
   "outputs": [],
   "source": []
  },
  {
   "cell_type": "code",
   "execution_count": null,
   "metadata": {},
   "outputs": [],
   "source": []
  }
 ],
 "metadata": {
  "kernelspec": {
   "display_name": "Python 3",
   "language": "python",
   "name": "python3"
  },
  "language_info": {
   "codemirror_mode": {
    "name": "ipython",
    "version": 3
   },
   "file_extension": ".py",
   "mimetype": "text/x-python",
   "name": "python",
   "nbconvert_exporter": "python",
   "pygments_lexer": "ipython3",
   "version": "3.6.5"
  }
 },
 "nbformat": 4,
 "nbformat_minor": 1
}
